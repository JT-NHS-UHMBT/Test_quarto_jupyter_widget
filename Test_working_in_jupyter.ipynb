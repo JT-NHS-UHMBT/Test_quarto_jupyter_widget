{
 "cells": [
  {
   "cell_type": "code",
   "execution_count": 1,
   "metadata": {},
   "outputs": [
    {
     "data": {
      "application/vnd.jupyter.widget-view+json": {
       "model_id": "20f73b14ebcf4d918f8ed2c04c9ae0c2",
       "version_major": 2,
       "version_minor": 0
      },
      "text/plain": [
       "interactive(children=(Dropdown(description='Select category:', options=('setosa', 'versicolor', 'virginica'), …"
      ]
     },
     "execution_count": 1,
     "metadata": {},
     "output_type": "execute_result"
    }
   ],
   "source": [
    "import pandas as pd\n",
    "import seaborn as sns\n",
    "import ipywidgets as widgets\n",
    "\n",
    "# Read in data\n",
    "df_iris = sns.load_dataset('iris')\n",
    "\n",
    "# Get categories\n",
    "species = df_iris['species'].unique()\n",
    "\n",
    "# Create dropdown widget\n",
    "dropdown = widgets.Dropdown(options=species, description='Select category:')\n",
    "\n",
    "# Function to update summary stats based on dropdown widget selection\n",
    "def update_category(selected_cat):\n",
    "  filtered_df = df_iris[df_iris['species']==selected_cat]['sepal_length'].describe()\n",
    "  return display(filtered_df)\n",
    "\n",
    "# Register function as event handler for dropdown widget\n",
    "widgets.interactive(update_category, selected_cat=dropdown)"
   ]
  }
 ],
 "metadata": {
  "kernelspec": {
   "display_name": "Python 3",
   "language": "python",
   "name": "python3"
  },
  "language_info": {
   "codemirror_mode": {
    "name": "ipython",
    "version": 3
   },
   "file_extension": ".py",
   "mimetype": "text/x-python",
   "name": "python",
   "nbconvert_exporter": "python",
   "pygments_lexer": "ipython3",
   "version": "3.11.4"
  },
  "orig_nbformat": 4
 },
 "nbformat": 4,
 "nbformat_minor": 2
}
